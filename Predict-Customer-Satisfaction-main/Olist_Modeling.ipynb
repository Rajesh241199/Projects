{
 "cells": [
  {
   "cell_type": "markdown",
   "metadata": {},
   "source": [
    "# Predicting customer satisfaction at Olist - a Brazilian e-commerce platform"
   ]
  },
  {
   "cell_type": "markdown",
   "metadata": {},
   "source": [
    "## Modeling\n",
    "Steps:\n",
    "\n",
    "    - Preprocess data, split train & test sets, prepare the pipeline.\n",
    "    - Test Logistic Regression & Randome Forest, tune hyperparameters with GridSearchCV & StratifiedKFold.\n",
    "    - Select features & model, predict probability on test set.\n",
    "    - Interpret business implication."
   ]
  },
  {
   "cell_type": "code",
   "execution_count": 1,
   "metadata": {},
   "outputs": [],
   "source": [
    "import os\n",
    "import numpy as np\n",
    "import pandas as pd"
   ]
  },
  {
   "cell_type": "code",
   "execution_count": 2,
   "metadata": {},
   "outputs": [],
   "source": [
    "from sklearn.model_selection import train_test_split\n",
    "from sklearn.impute import SimpleImputer\n",
    "from sklearn.preprocessing import StandardScaler\n",
    "from sklearn.decomposition import PCA\n",
    "from sklearn.pipeline import Pipeline, make_pipeline"
   ]
  },
  {
   "cell_type": "code",
   "execution_count": 3,
   "metadata": {},
   "outputs": [],
   "source": [
    "from sklearn.linear_model import LogisticRegression\n",
    "from sklearn.ensemble import RandomForestClassifier\n",
    "from xgboost import XGBClassifier\n",
    "from sklearn.model_selection import cross_val_score, cross_val_predict, StratifiedKFold\n",
    "from sklearn.model_selection import GridSearchCV, RandomizedSearchCV\n",
    "import warnings"
   ]
  },
  {
   "cell_type": "code",
   "execution_count": 4,
   "metadata": {},
   "outputs": [],
   "source": [
    "from sklearn.metrics import accuracy_score, mean_squared_error\n",
    "from sklearn.metrics import precision_score, recall_score, f1_score\n",
    "from sklearn.metrics import confusion_matrix, plot_confusion_matrix, classification_report"
   ]
  },
  {
   "cell_type": "markdown",
   "metadata": {},
   "source": [
    "Load data"
   ]
  },
  {
   "cell_type": "code",
   "execution_count": 5,
   "metadata": {},
   "outputs": [],
   "source": [
    "df = pd.read_csv(str(os.getcwd()) + '/' + 'final_df.csv')"
   ]
  },
  {
   "cell_type": "code",
   "execution_count": 6,
   "metadata": {
    "scrolled": false
   },
   "outputs": [
    {
     "name": "stdout",
     "output_type": "stream",
     "text": [
      "(97154, 33)\n",
      "Index(['order_id', 'product_id', 'seller_id', 'price', 'freight_value',\n",
      "       'customer_id', 'order_status', 'order_purchase_timestamp',\n",
      "       'estimated_days_of_delivery', 'actual_days_of_delivery', 'year',\n",
      "       'product_name_length', 'product_description_length',\n",
      "       'product_photos_qty', 'product_weight_g', 'product_length_cm',\n",
      "       'product_height_cm', 'product_width_cm', 'product_category',\n",
      "       'review_score', 'review_answer_delay', 'customer_zip_code_prefix',\n",
      "       'state_code', 'customer_return', 'seller_zip_code_prefix',\n",
      "       'customer_lat', 'customer_lng', 'seller_lat', 'seller_lng',\n",
      "       'state_name', 'avg_income', 'state_population', 'late_delivery'],\n",
      "      dtype='object')\n"
     ]
    },
    {
     "data": {
      "text/html": [
       "<div>\n",
       "<style scoped>\n",
       "    .dataframe tbody tr th:only-of-type {\n",
       "        vertical-align: middle;\n",
       "    }\n",
       "\n",
       "    .dataframe tbody tr th {\n",
       "        vertical-align: top;\n",
       "    }\n",
       "\n",
       "    .dataframe thead th {\n",
       "        text-align: right;\n",
       "    }\n",
       "</style>\n",
       "<table border=\"1\" class=\"dataframe\">\n",
       "  <thead>\n",
       "    <tr style=\"text-align: right;\">\n",
       "      <th></th>\n",
       "      <th>order_id</th>\n",
       "      <th>product_id</th>\n",
       "      <th>seller_id</th>\n",
       "      <th>price</th>\n",
       "      <th>freight_value</th>\n",
       "      <th>customer_id</th>\n",
       "      <th>order_status</th>\n",
       "      <th>order_purchase_timestamp</th>\n",
       "      <th>estimated_days_of_delivery</th>\n",
       "      <th>actual_days_of_delivery</th>\n",
       "      <th>...</th>\n",
       "      <th>customer_return</th>\n",
       "      <th>seller_zip_code_prefix</th>\n",
       "      <th>customer_lat</th>\n",
       "      <th>customer_lng</th>\n",
       "      <th>seller_lat</th>\n",
       "      <th>seller_lng</th>\n",
       "      <th>state_name</th>\n",
       "      <th>avg_income</th>\n",
       "      <th>state_population</th>\n",
       "      <th>late_delivery</th>\n",
       "    </tr>\n",
       "  </thead>\n",
       "  <tbody>\n",
       "    <tr>\n",
       "      <th>0</th>\n",
       "      <td>00010242fe8c5a6d1ba2dd792cb16214</td>\n",
       "      <td>4244733e06e7ecb4970a6e2683c13e61</td>\n",
       "      <td>48436dade18ac8b2bce089ec2a041202</td>\n",
       "      <td>58.9</td>\n",
       "      <td>13.29</td>\n",
       "      <td>3ce436f183e68e07877b285a838db11a</td>\n",
       "      <td>delivered</td>\n",
       "      <td>2017-09-13</td>\n",
       "      <td>16.0</td>\n",
       "      <td>7.0</td>\n",
       "      <td>...</td>\n",
       "      <td>0</td>\n",
       "      <td>27277</td>\n",
       "      <td>-21.758076</td>\n",
       "      <td>-41.312633</td>\n",
       "      <td>-22.498183</td>\n",
       "      <td>-44.123614</td>\n",
       "      <td>Rio de Janeiro</td>\n",
       "      <td>1537.216410</td>\n",
       "      <td>16718956</td>\n",
       "      <td>0</td>\n",
       "    </tr>\n",
       "    <tr>\n",
       "      <th>1</th>\n",
       "      <td>00018f77f2f0320c557190d7a144bdd3</td>\n",
       "      <td>e5f2d52b802189ee658865ca93d83a8f</td>\n",
       "      <td>dd7ddc04e1b6c2c614352b383efe2d36</td>\n",
       "      <td>239.9</td>\n",
       "      <td>19.93</td>\n",
       "      <td>f6dd3ec061db4e3987629fe6b26e5cce</td>\n",
       "      <td>delivered</td>\n",
       "      <td>2017-04-26</td>\n",
       "      <td>19.0</td>\n",
       "      <td>16.0</td>\n",
       "      <td>...</td>\n",
       "      <td>0</td>\n",
       "      <td>3471</td>\n",
       "      <td>-20.212393</td>\n",
       "      <td>-50.941471</td>\n",
       "      <td>-23.566258</td>\n",
       "      <td>-46.518417</td>\n",
       "      <td>São Paulo</td>\n",
       "      <td>1787.421374</td>\n",
       "      <td>45094866</td>\n",
       "      <td>0</td>\n",
       "    </tr>\n",
       "    <tr>\n",
       "      <th>2</th>\n",
       "      <td>000229ec398224ef6ca0657da4fc703e</td>\n",
       "      <td>c777355d18b72b67abbeef9df44fd0fd</td>\n",
       "      <td>5b51032eddd242adc84c38acab88f23d</td>\n",
       "      <td>199.0</td>\n",
       "      <td>17.87</td>\n",
       "      <td>6489ae5e4333f3693df5ad4372dab6d3</td>\n",
       "      <td>delivered</td>\n",
       "      <td>2018-01-14</td>\n",
       "      <td>22.0</td>\n",
       "      <td>8.0</td>\n",
       "      <td>...</td>\n",
       "      <td>0</td>\n",
       "      <td>37564</td>\n",
       "      <td>-19.860439</td>\n",
       "      <td>-44.597972</td>\n",
       "      <td>-22.264094</td>\n",
       "      <td>-46.158564</td>\n",
       "      <td>Minas Gerais</td>\n",
       "      <td>1326.190434</td>\n",
       "      <td>21040662</td>\n",
       "      <td>0</td>\n",
       "    </tr>\n",
       "  </tbody>\n",
       "</table>\n",
       "<p>3 rows × 33 columns</p>\n",
       "</div>"
      ],
      "text/plain": [
       "                           order_id                        product_id  \\\n",
       "0  00010242fe8c5a6d1ba2dd792cb16214  4244733e06e7ecb4970a6e2683c13e61   \n",
       "1  00018f77f2f0320c557190d7a144bdd3  e5f2d52b802189ee658865ca93d83a8f   \n",
       "2  000229ec398224ef6ca0657da4fc703e  c777355d18b72b67abbeef9df44fd0fd   \n",
       "\n",
       "                          seller_id  price  freight_value  \\\n",
       "0  48436dade18ac8b2bce089ec2a041202   58.9          13.29   \n",
       "1  dd7ddc04e1b6c2c614352b383efe2d36  239.9          19.93   \n",
       "2  5b51032eddd242adc84c38acab88f23d  199.0          17.87   \n",
       "\n",
       "                        customer_id order_status order_purchase_timestamp  \\\n",
       "0  3ce436f183e68e07877b285a838db11a    delivered               2017-09-13   \n",
       "1  f6dd3ec061db4e3987629fe6b26e5cce    delivered               2017-04-26   \n",
       "2  6489ae5e4333f3693df5ad4372dab6d3    delivered               2018-01-14   \n",
       "\n",
       "   estimated_days_of_delivery  actual_days_of_delivery  ...  customer_return  \\\n",
       "0                        16.0                      7.0  ...                0   \n",
       "1                        19.0                     16.0  ...                0   \n",
       "2                        22.0                      8.0  ...                0   \n",
       "\n",
       "   seller_zip_code_prefix  customer_lat  customer_lng  seller_lat  seller_lng  \\\n",
       "0                   27277    -21.758076    -41.312633  -22.498183  -44.123614   \n",
       "1                    3471    -20.212393    -50.941471  -23.566258  -46.518417   \n",
       "2                   37564    -19.860439    -44.597972  -22.264094  -46.158564   \n",
       "\n",
       "       state_name   avg_income state_population  late_delivery  \n",
       "0  Rio de Janeiro  1537.216410         16718956              0  \n",
       "1       São Paulo  1787.421374         45094866              0  \n",
       "2    Minas Gerais  1326.190434         21040662              0  \n",
       "\n",
       "[3 rows x 33 columns]"
      ]
     },
     "execution_count": 6,
     "metadata": {},
     "output_type": "execute_result"
    }
   ],
   "source": [
    "print(df.shape)\n",
    "print(df.columns)\n",
    "df.head(3)"
   ]
  },
  {
   "cell_type": "markdown",
   "metadata": {},
   "source": [
    "### Data preprocessing:"
   ]
  },
  {
   "cell_type": "code",
   "execution_count": 7,
   "metadata": {},
   "outputs": [],
   "source": [
    "def preprocessing(df):\n",
    "    df['delivered'] = np.where(df['order_status']=='delivered', 1, 0)\n",
    "    df['estimated_delivery_time_error'] = df['actual_days_of_delivery'] - df['estimated_days_of_delivery']\n",
    "    \n",
    "    # track review answer delay\n",
    "    delay_bins = [-1, 0, 1, 2, 3, 518]\n",
    "    delay_labels = ['0', '1', '2', '3', '3_plus']\n",
    "    df['review_answer_delay_range'] = pd.cut(df['review_answer_delay'], delay_bins, labels=delay_labels)\n",
    "    delay_dummies = pd.get_dummies(df['review_answer_delay_range'], prefix='review_delay_range')\n",
    "    df = pd.concat([df, delay_dummies], axis=1)\n",
    "    \n",
    "    # create dummies for product category\n",
    "    cat_dummies = pd.get_dummies(df['product_category'])\n",
    "    df = pd.concat([df, cat_dummies], axis=1)\n",
    "    \n",
    "    # get purchase time\n",
    "    df['purchase_month'] = pd.to_datetime(df['order_purchase_timestamp']).dt.month\n",
    "    df['purchase_day'] = pd.to_datetime(df['order_purchase_timestamp']).dt.day\n",
    "    \n",
    "    # drop unwanted columns\n",
    "    to_drop = ['product_category', 'review_answer_delay_range', 'order_id', 'seller_id',\n",
    "               'customer_id', 'product_id', 'state_code', 'order_status',\n",
    "               'order_purchase_timestamp', 'year', 'review_answer_delay',\n",
    "               'review_answer_delay_range', 'state_name']\n",
    "    df = df.drop(columns=to_drop, axis=1)\n",
    "    \n",
    "    return df"
   ]
  },
  {
   "cell_type": "markdown",
   "metadata": {},
   "source": [
    "Define predictors & target variable."
   ]
  },
  {
   "cell_type": "code",
   "execution_count": 8,
   "metadata": {},
   "outputs": [],
   "source": [
    "df_model = preprocessing(df)\n",
    "X = df_model.drop(['review_score'], axis=1)\n",
    "y = df_model['review_score']"
   ]
  },
  {
   "cell_type": "markdown",
   "metadata": {},
   "source": [
    "The target variable is highly imbalanced, with the scores from 1 to 3 account for approx. 20% of the data set. We'll recategorize this variable into 2 main categoies: satisfied customers (review score 4 & 5) and unsatisfied customers (review scores from 1 to 3). This will help increase the representation of the minority classes, and help the models detect them better, while preserving the business insights and interpretability."
   ]
  },
  {
   "cell_type": "code",
   "execution_count": 9,
   "metadata": {},
   "outputs": [],
   "source": [
    "y2 = y.apply(lambda x: 0 if x in [1,2,3] else 1)"
   ]
  },
  {
   "cell_type": "markdown",
   "metadata": {},
   "source": [
    "Split the train & test sets"
   ]
  },
  {
   "cell_type": "code",
   "execution_count": 10,
   "metadata": {},
   "outputs": [],
   "source": [
    "X_train, X_test, y_train, y_test = train_test_split(X, y2,\n",
    "                                                    test_size=0.2,\n",
    "                                                    stratify=y,\n",
    "                                                    random_state=1)"
   ]
  },
  {
   "cell_type": "code",
   "execution_count": 11,
   "metadata": {},
   "outputs": [
    {
     "name": "stdout",
     "output_type": "stream",
     "text": [
      "Train set size:  (77723, 38) (77723,)\n",
      "Test set size: (19431, 38) (19431,)\n"
     ]
    }
   ],
   "source": [
    "print('Train set size: ', X_train.shape, y_train.shape)\n",
    "print('Test set size:', X_test.shape, y_test.shape)"
   ]
  },
  {
   "cell_type": "markdown",
   "metadata": {},
   "source": [
    "Prepare imputer & feature scaler"
   ]
  },
  {
   "cell_type": "code",
   "execution_count": 12,
   "metadata": {},
   "outputs": [],
   "source": [
    "imputer = SimpleImputer(strategy='median')\n",
    "scaler = StandardScaler()"
   ]
  },
  {
   "cell_type": "markdown",
   "metadata": {},
   "source": [
    "Class distribution in the training set, which will be similar in validation & test sets. This will be a baseline to evaluate our models' performance."
   ]
  },
  {
   "cell_type": "code",
   "execution_count": 13,
   "metadata": {},
   "outputs": [
    {
     "data": {
      "text/plain": [
       "1    0.775729\n",
       "0    0.224271\n",
       "Name: review_score, dtype: float64"
      ]
     },
     "execution_count": 13,
     "metadata": {},
     "output_type": "execute_result"
    }
   ],
   "source": [
    "y_train.value_counts(normalize=True)"
   ]
  },
  {
   "cell_type": "markdown",
   "metadata": {},
   "source": [
    "### Modeling\n",
    "Metrics: \n",
    "\n",
    "    - Accuracy score.\n",
    "    - The target variable is highly imbalance, however we value the predictions on both negative class (unhappy customers) and positive class (happy customers), we'll use F1 score as an additional metrics. This is the harmonic mean of precision score & recall score. \n",
    "    - Confusion matrix: to see the model performance on each class in more detail."
   ]
  },
  {
   "cell_type": "markdown",
   "metadata": {},
   "source": [
    "#### Logistic Regression\n",
    "Hyperparameter tuning with GridSearchCV & PCA."
   ]
  },
  {
   "cell_type": "code",
   "execution_count": 14,
   "metadata": {},
   "outputs": [
    {
     "name": "stdout",
     "output_type": "stream",
     "text": [
      "Fitting 5 folds for each of 126 candidates, totalling 630 fits\n"
     ]
    },
    {
     "name": "stderr",
     "output_type": "stream",
     "text": [
      "[Parallel(n_jobs=-1)]: Using backend LokyBackend with 4 concurrent workers.\n",
      "[Parallel(n_jobs=-1)]: Done  42 tasks      | elapsed:   53.8s\n",
      "[Parallel(n_jobs=-1)]: Done 192 tasks      | elapsed:  3.0min\n",
      "[Parallel(n_jobs=-1)]: Done 442 tasks      | elapsed:  6.4min\n",
      "[Parallel(n_jobs=-1)]: Done 630 out of 630 | elapsed:  8.7min finished\n"
     ]
    },
    {
     "data": {
      "text/plain": [
       "GridSearchCV(cv=StratifiedKFold(n_splits=5, random_state=None, shuffle=False),\n",
       "             estimator=Pipeline(steps=[('simpleimputer',\n",
       "                                        SimpleImputer(strategy='median')),\n",
       "                                       ('standardscaler', StandardScaler()),\n",
       "                                       ('pca', PCA()),\n",
       "                                       ('logisticregression',\n",
       "                                        LogisticRegression())]),\n",
       "             n_jobs=-1,\n",
       "             param_grid={'logisticregression__C': [0.01, 0.05, 0.1, 0.5, 1, 2],\n",
       "                         'logisticregression__penalty': ['l2'],\n",
       "                         'logisticregression__solver': ['newton-cg', 'sag',\n",
       "                                                        'lbfgs'],\n",
       "                         'pca__n_components': [25, 27, 29, 31, 33, 35, 37]},\n",
       "             verbose=1)"
      ]
     },
     "execution_count": 14,
     "metadata": {},
     "output_type": "execute_result"
    }
   ],
   "source": [
    "# model & pipeline for GridSearch\n",
    "lr = LogisticRegression()\n",
    "\n",
    "# add pca\n",
    "pca = PCA()\n",
    "n_components = list(range(25,X.shape[1],2))\n",
    "\n",
    "# pipeline\n",
    "pipe_lr = make_pipeline(imputer, scaler, pca, lr)\n",
    "\n",
    "# hyper-parameters of the model that will be tested by GridSearchCV\n",
    "parameters_lr = {\n",
    "        'logisticregression__C': [0.01, 0.05, 0.1, 0.5, 1, 2],\n",
    "        'logisticregression__penalty' : ['l2'],\n",
    "        'logisticregression__solver' : ['newton-cg', 'sag', 'lbfgs'],\n",
    "        'pca__n_components': n_components\n",
    "        }\n",
    "\n",
    "# define GridSearchCV\n",
    "grid_lr = GridSearchCV(pipe_lr, \n",
    "                       param_grid=parameters_lr, \n",
    "                       cv=StratifiedKFold(),\n",
    "                       verbose=1,\n",
    "                      n_jobs=-1)\n",
    "\n",
    "warnings. filterwarnings(\"ignore\")\n",
    "grid_lr.fit(X_train, y_train)"
   ]
  },
  {
   "cell_type": "code",
   "execution_count": 15,
   "metadata": {
    "scrolled": true
   },
   "outputs": [
    {
     "name": "stdout",
     "output_type": "stream",
     "text": [
      "Best hyperparameters:\n",
      "{'logisticregression__C': 0.5, 'logisticregression__penalty': 'l2', 'logisticregression__solver': 'newton-cg', 'pca__n_components': 27}\n",
      "Best estimator:  Pipeline(steps=[('simpleimputer', SimpleImputer(strategy='median')),\n",
      "                ('standardscaler', StandardScaler()),\n",
      "                ('pca', PCA(n_components=27)),\n",
      "                ('logisticregression',\n",
      "                 LogisticRegression(C=0.5, solver='newton-cg'))])\n",
      "Cross validation score: \n",
      " Accuracy: 0.8197959413235395\n"
     ]
    }
   ],
   "source": [
    "print('Best hyperparameters:\\n{}'.format(grid_lr.best_params_))\n",
    "print('Best estimator: ', grid_lr.best_estimator_)\n",
    "print('Cross validation score: \\n Accuracy:', grid_lr.best_score_)"
   ]
  },
  {
   "cell_type": "markdown",
   "metadata": {},
   "source": [
    "With the best parameters, we predict the outcome of the test set and calculate the score."
   ]
  },
  {
   "cell_type": "code",
   "execution_count": 16,
   "metadata": {
    "scrolled": true
   },
   "outputs": [
    {
     "name": "stdout",
     "output_type": "stream",
     "text": [
      "Logistic Regression - best scores:\n",
      "F1-score: 0.8937022813861355\n",
      "Confusion matrix: \n",
      " [[ 4839 12592]\n",
      " [ 1414 58878]]\n"
     ]
    }
   ],
   "source": [
    "y_train_pred_lr = cross_val_predict(grid_lr.best_estimator_, X_train, y_train, cv=5, method='predict', n_jobs=-1)\n",
    "print('Logistic Regression - best scores:')\n",
    "print('F1-score:', f1_score(y_train, y_train_pred_lr))\n",
    "print('Confusion matrix: \\n', confusion_matrix(y_train, y_train_pred_lr))"
   ]
  },
  {
   "cell_type": "markdown",
   "metadata": {},
   "source": [
    "#### Random Forest Classifier"
   ]
  },
  {
   "cell_type": "markdown",
   "metadata": {},
   "source": [
    "Test with default settings to use as a baseline."
   ]
  },
  {
   "cell_type": "code",
   "execution_count": 17,
   "metadata": {
    "scrolled": true
   },
   "outputs": [
    {
     "name": "stdout",
     "output_type": "stream",
     "text": [
      "RF CV score: \n",
      " Accuracy score: 0.8216486754242631\n",
      "F1-score: 0.894968934687074\n",
      "Confusion matrix: \n",
      " [[ 4802 12629]\n",
      " [ 1233 59059]]\n"
     ]
    }
   ],
   "source": [
    "rf = RandomForestClassifier()\n",
    "pipe_rf = make_pipeline(imputer, rf)\n",
    "\n",
    "y_train_pred_rf = cross_val_predict(pipe_rf, X_train, y_train, cv=5, method='predict', n_jobs=-1)\n",
    "print('RF CV score: \\n Accuracy score:', accuracy_score(y_train, y_train_pred_rf))\n",
    "print('F1-score:', f1_score(y_train, y_train_pred_rf))\n",
    "print('Confusion matrix: \\n', confusion_matrix(y_train, y_train_pred_rf))"
   ]
  },
  {
   "cell_type": "markdown",
   "metadata": {},
   "source": [
    "Hyperparameter tuning:\n",
    "\n",
    "    - To reduce the model complexity & bias: set max_features=0.5 & max_samples=0.5 - the model will use half the features and half the samples each time it builds a tree.\n",
    "    - Tune max_depth & n_estimators.\n",
    "    - Check train & test cv scores to detect overfitting."
   ]
  },
  {
   "cell_type": "code",
   "execution_count": 18,
   "metadata": {},
   "outputs": [
    {
     "name": "stdout",
     "output_type": "stream",
     "text": [
      "Fitting 3 folds for each of 40 candidates, totalling 120 fits\n"
     ]
    },
    {
     "name": "stderr",
     "output_type": "stream",
     "text": [
      "[Parallel(n_jobs=-1)]: Using backend LokyBackend with 4 concurrent workers.\n",
      "[Parallel(n_jobs=-1)]: Done  42 tasks      | elapsed: 22.7min\n",
      "[Parallel(n_jobs=-1)]: Done 120 out of 120 | elapsed: 100.1min finished\n"
     ]
    },
    {
     "data": {
      "text/plain": [
       "GridSearchCV(cv=StratifiedKFold(n_splits=3, random_state=None, shuffle=False),\n",
       "             estimator=Pipeline(steps=[('simpleimputer',\n",
       "                                        SimpleImputer(strategy='median')),\n",
       "                                       ('randomforestclassifier',\n",
       "                                        RandomForestClassifier(max_features=0.5,\n",
       "                                                               max_samples=0.5))]),\n",
       "             n_jobs=-1,\n",
       "             param_grid={'randomforestclassifier__max_depth': [5, 6, 7, 8, 9,\n",
       "                                                               10, 11, 12],\n",
       "                         'randomforestclassifier__n_estimators': [100, 200, 500,\n",
       "                                                                  1000, 1500]},\n",
       "             return_train_score=True, scoring='f1', verbose=1)"
      ]
     },
     "execution_count": 18,
     "metadata": {},
     "output_type": "execute_result"
    }
   ],
   "source": [
    "rf1 = RandomForestClassifier(max_samples=0.5, max_features=0.5)\n",
    "\n",
    "# pipeline\n",
    "pipe_rf1 = make_pipeline(imputer, rf1)\n",
    "\n",
    "# set hyperparameters to tune\n",
    "params_rf1 = {'randomforestclassifier__n_estimators': [100,200,500,1000,1500],\n",
    "              'randomforestclassifier__max_depth': [5,6,7,8,9,10,11,12]}\n",
    "\n",
    "grid_rf1 = GridSearchCV(pipe_rf1, param_grid=params_rf1,\n",
    "                        cv=StratifiedKFold(n_splits=3), scoring='f1',\n",
    "                        verbose=1, n_jobs=-1,\n",
    "                        return_train_score=True)\n",
    "\n",
    "grid_rf1.fit(X_train, y_train)"
   ]
  },
  {
   "cell_type": "code",
   "execution_count": 19,
   "metadata": {
    "scrolled": true
   },
   "outputs": [
    {
     "name": "stdout",
     "output_type": "stream",
     "text": [
      "Random Forest - GridSearchCV 1:\n",
      "Best params:  {'randomforestclassifier__max_depth': 8, 'randomforestclassifier__n_estimators': 100}\n",
      "Best estimator:  Pipeline(steps=[('simpleimputer', SimpleImputer(strategy='median')),\n",
      "                ('randomforestclassifier',\n",
      "                 RandomForestClassifier(max_depth=8, max_features=0.5,\n",
      "                                        max_samples=0.5))])\n"
     ]
    }
   ],
   "source": [
    "print('Random Forest - GridSearchCV 1:')\n",
    "print('Best params: ', grid_rf1.best_params_)\n",
    "print('Best estimator: ', grid_rf1.best_estimator_)"
   ]
  },
  {
   "cell_type": "markdown",
   "metadata": {},
   "source": [
    "Check train results to prevent overfitting:"
   ]
  },
  {
   "cell_type": "code",
   "execution_count": 20,
   "metadata": {},
   "outputs": [
    {
     "data": {
      "text/html": [
       "<div>\n",
       "<style scoped>\n",
       "    .dataframe tbody tr th:only-of-type {\n",
       "        vertical-align: middle;\n",
       "    }\n",
       "\n",
       "    .dataframe tbody tr th {\n",
       "        vertical-align: top;\n",
       "    }\n",
       "\n",
       "    .dataframe thead th {\n",
       "        text-align: right;\n",
       "    }\n",
       "</style>\n",
       "<table border=\"1\" class=\"dataframe\">\n",
       "  <thead>\n",
       "    <tr style=\"text-align: right;\">\n",
       "      <th></th>\n",
       "      <th>mean_fit_time</th>\n",
       "      <th>std_fit_time</th>\n",
       "      <th>mean_score_time</th>\n",
       "      <th>std_score_time</th>\n",
       "      <th>param_randomforestclassifier__max_depth</th>\n",
       "      <th>param_randomforestclassifier__n_estimators</th>\n",
       "      <th>params</th>\n",
       "      <th>split0_test_score</th>\n",
       "      <th>split1_test_score</th>\n",
       "      <th>split2_test_score</th>\n",
       "      <th>mean_test_score</th>\n",
       "      <th>std_test_score</th>\n",
       "      <th>rank_test_score</th>\n",
       "      <th>split0_train_score</th>\n",
       "      <th>split1_train_score</th>\n",
       "      <th>split2_train_score</th>\n",
       "      <th>mean_train_score</th>\n",
       "      <th>std_train_score</th>\n",
       "    </tr>\n",
       "  </thead>\n",
       "  <tbody>\n",
       "    <tr>\n",
       "      <th>0</th>\n",
       "      <td>17.514557</td>\n",
       "      <td>0.223811</td>\n",
       "      <td>0.433382</td>\n",
       "      <td>0.012960</td>\n",
       "      <td>5</td>\n",
       "      <td>100</td>\n",
       "      <td>{'randomforestclassifier__max_depth': 5, 'rand...</td>\n",
       "      <td>0.896107</td>\n",
       "      <td>0.895359</td>\n",
       "      <td>0.896056</td>\n",
       "      <td>0.895841</td>\n",
       "      <td>0.000341</td>\n",
       "      <td>39</td>\n",
       "      <td>0.896328</td>\n",
       "      <td>0.896674</td>\n",
       "      <td>0.896304</td>\n",
       "      <td>0.896435</td>\n",
       "      <td>0.000169</td>\n",
       "    </tr>\n",
       "    <tr>\n",
       "      <th>1</th>\n",
       "      <td>34.288680</td>\n",
       "      <td>0.271274</td>\n",
       "      <td>0.786572</td>\n",
       "      <td>0.011039</td>\n",
       "      <td>5</td>\n",
       "      <td>200</td>\n",
       "      <td>{'randomforestclassifier__max_depth': 5, 'rand...</td>\n",
       "      <td>0.896138</td>\n",
       "      <td>0.895349</td>\n",
       "      <td>0.896161</td>\n",
       "      <td>0.895883</td>\n",
       "      <td>0.000377</td>\n",
       "      <td>38</td>\n",
       "      <td>0.896386</td>\n",
       "      <td>0.896527</td>\n",
       "      <td>0.896297</td>\n",
       "      <td>0.896403</td>\n",
       "      <td>0.000094</td>\n",
       "    </tr>\n",
       "    <tr>\n",
       "      <th>2</th>\n",
       "      <td>86.576355</td>\n",
       "      <td>1.323562</td>\n",
       "      <td>2.131561</td>\n",
       "      <td>0.324465</td>\n",
       "      <td>5</td>\n",
       "      <td>500</td>\n",
       "      <td>{'randomforestclassifier__max_depth': 5, 'rand...</td>\n",
       "      <td>0.896243</td>\n",
       "      <td>0.895468</td>\n",
       "      <td>0.896270</td>\n",
       "      <td>0.895994</td>\n",
       "      <td>0.000372</td>\n",
       "      <td>17</td>\n",
       "      <td>0.896371</td>\n",
       "      <td>0.896677</td>\n",
       "      <td>0.896265</td>\n",
       "      <td>0.896438</td>\n",
       "      <td>0.000175</td>\n",
       "    </tr>\n",
       "  </tbody>\n",
       "</table>\n",
       "</div>"
      ],
      "text/plain": [
       "   mean_fit_time  std_fit_time  mean_score_time  std_score_time  \\\n",
       "0      17.514557      0.223811         0.433382        0.012960   \n",
       "1      34.288680      0.271274         0.786572        0.011039   \n",
       "2      86.576355      1.323562         2.131561        0.324465   \n",
       "\n",
       "  param_randomforestclassifier__max_depth  \\\n",
       "0                                       5   \n",
       "1                                       5   \n",
       "2                                       5   \n",
       "\n",
       "  param_randomforestclassifier__n_estimators  \\\n",
       "0                                        100   \n",
       "1                                        200   \n",
       "2                                        500   \n",
       "\n",
       "                                              params  split0_test_score  \\\n",
       "0  {'randomforestclassifier__max_depth': 5, 'rand...           0.896107   \n",
       "1  {'randomforestclassifier__max_depth': 5, 'rand...           0.896138   \n",
       "2  {'randomforestclassifier__max_depth': 5, 'rand...           0.896243   \n",
       "\n",
       "   split1_test_score  split2_test_score  mean_test_score  std_test_score  \\\n",
       "0           0.895359           0.896056         0.895841        0.000341   \n",
       "1           0.895349           0.896161         0.895883        0.000377   \n",
       "2           0.895468           0.896270         0.895994        0.000372   \n",
       "\n",
       "   rank_test_score  split0_train_score  split1_train_score  \\\n",
       "0               39            0.896328            0.896674   \n",
       "1               38            0.896386            0.896527   \n",
       "2               17            0.896371            0.896677   \n",
       "\n",
       "   split2_train_score  mean_train_score  std_train_score  \n",
       "0            0.896304          0.896435         0.000169  \n",
       "1            0.896297          0.896403         0.000094  \n",
       "2            0.896265          0.896438         0.000175  "
      ]
     },
     "execution_count": 20,
     "metadata": {},
     "output_type": "execute_result"
    }
   ],
   "source": [
    "grid_rf1_res = pd.DataFrame(grid_rf1.cv_results_)\n",
    "grid_rf1_res.head(3)"
   ]
  },
  {
   "cell_type": "code",
   "execution_count": 25,
   "metadata": {},
   "outputs": [
    {
     "data": {
      "image/png": "[encoded data removed]",
      "text/plain": [
       "<Figure size 432x288 with 1 Axes>"
      ]
     },
     "metadata": {
      "needs_background": "light"
     },
     "output_type": "display_data"
    }
   ],
   "source": [
    "import matplotlib.pyplot as plt\n",
    "grid_rf1_res.sort_values(by='rank_test_score', ascending=True, inplace=True)\n",
    "\n",
    "fig, ax = plt.subplots(figsize=(6,4))\n",
    "ax.plot(grid_rf1_res['rank_test_score'], grid_rf1_res['mean_train_score'], linestyle='-', marker='o', color='b')\n",
    "ax.plot(grid_rf1_res['rank_test_score'], grid_rf1_res['mean_test_score'], linestyle='-', marker='o', color='r')\n",
    "plt.show()"
   ]
  },
  {
   "cell_type": "code",
   "execution_count": 26,
   "metadata": {
    "scrolled": true
   },
   "outputs": [
    {
     "data": {
      "text/html": [
       "<div>\n",
       "<style scoped>\n",
       "    .dataframe tbody tr th:only-of-type {\n",
       "        vertical-align: middle;\n",
       "    }\n",
       "\n",
       "    .dataframe tbody tr th {\n",
       "        vertical-align: top;\n",
       "    }\n",
       "\n",
       "    .dataframe thead th {\n",
       "        text-align: right;\n",
       "    }\n",
       "</style>\n",
       "<table border=\"1\" class=\"dataframe\">\n",
       "  <thead>\n",
       "    <tr style=\"text-align: right;\">\n",
       "      <th></th>\n",
       "      <th>rank_test_score</th>\n",
       "      <th>param_randomforestclassifier__max_depth</th>\n",
       "      <th>param_randomforestclassifier__n_estimators</th>\n",
       "      <th>mean_train_score</th>\n",
       "      <th>mean_test_score</th>\n",
       "    </tr>\n",
       "  </thead>\n",
       "  <tbody>\n",
       "    <tr>\n",
       "      <th>15</th>\n",
       "      <td>1</td>\n",
       "      <td>8</td>\n",
       "      <td>100</td>\n",
       "      <td>0.898590</td>\n",
       "      <td>0.896077</td>\n",
       "    </tr>\n",
       "    <tr>\n",
       "      <th>18</th>\n",
       "      <td>2</td>\n",
       "      <td>8</td>\n",
       "      <td>1000</td>\n",
       "      <td>0.898612</td>\n",
       "      <td>0.896063</td>\n",
       "    </tr>\n",
       "    <tr>\n",
       "      <th>19</th>\n",
       "      <td>3</td>\n",
       "      <td>8</td>\n",
       "      <td>1500</td>\n",
       "      <td>0.898595</td>\n",
       "      <td>0.896052</td>\n",
       "    </tr>\n",
       "    <tr>\n",
       "      <th>17</th>\n",
       "      <td>4</td>\n",
       "      <td>8</td>\n",
       "      <td>500</td>\n",
       "      <td>0.898547</td>\n",
       "      <td>0.896043</td>\n",
       "    </tr>\n",
       "    <tr>\n",
       "      <th>14</th>\n",
       "      <td>5</td>\n",
       "      <td>7</td>\n",
       "      <td>1500</td>\n",
       "      <td>0.897710</td>\n",
       "      <td>0.896042</td>\n",
       "    </tr>\n",
       "    <tr>\n",
       "      <th>29</th>\n",
       "      <td>6</td>\n",
       "      <td>10</td>\n",
       "      <td>1500</td>\n",
       "      <td>0.900847</td>\n",
       "      <td>0.896042</td>\n",
       "    </tr>\n",
       "    <tr>\n",
       "      <th>13</th>\n",
       "      <td>7</td>\n",
       "      <td>7</td>\n",
       "      <td>1000</td>\n",
       "      <td>0.897650</td>\n",
       "      <td>0.896036</td>\n",
       "    </tr>\n",
       "    <tr>\n",
       "      <th>8</th>\n",
       "      <td>8</td>\n",
       "      <td>6</td>\n",
       "      <td>1000</td>\n",
       "      <td>0.897003</td>\n",
       "      <td>0.896033</td>\n",
       "    </tr>\n",
       "    <tr>\n",
       "      <th>24</th>\n",
       "      <td>9</td>\n",
       "      <td>9</td>\n",
       "      <td>1500</td>\n",
       "      <td>0.899621</td>\n",
       "      <td>0.896031</td>\n",
       "    </tr>\n",
       "    <tr>\n",
       "      <th>20</th>\n",
       "      <td>10</td>\n",
       "      <td>9</td>\n",
       "      <td>100</td>\n",
       "      <td>0.899736</td>\n",
       "      <td>0.896031</td>\n",
       "    </tr>\n",
       "    <tr>\n",
       "      <th>11</th>\n",
       "      <td>11</td>\n",
       "      <td>7</td>\n",
       "      <td>200</td>\n",
       "      <td>0.897700</td>\n",
       "      <td>0.896024</td>\n",
       "    </tr>\n",
       "    <tr>\n",
       "      <th>5</th>\n",
       "      <td>12</td>\n",
       "      <td>6</td>\n",
       "      <td>100</td>\n",
       "      <td>0.896891</td>\n",
       "      <td>0.896020</td>\n",
       "    </tr>\n",
       "    <tr>\n",
       "      <th>9</th>\n",
       "      <td>13</td>\n",
       "      <td>6</td>\n",
       "      <td>1500</td>\n",
       "      <td>0.897003</td>\n",
       "      <td>0.896017</td>\n",
       "    </tr>\n",
       "    <tr>\n",
       "      <th>7</th>\n",
       "      <td>14</td>\n",
       "      <td>6</td>\n",
       "      <td>500</td>\n",
       "      <td>0.897032</td>\n",
       "      <td>0.896017</td>\n",
       "    </tr>\n",
       "    <tr>\n",
       "      <th>16</th>\n",
       "      <td>15</td>\n",
       "      <td>8</td>\n",
       "      <td>200</td>\n",
       "      <td>0.898617</td>\n",
       "      <td>0.896005</td>\n",
       "    </tr>\n",
       "    <tr>\n",
       "      <th>12</th>\n",
       "      <td>16</td>\n",
       "      <td>7</td>\n",
       "      <td>500</td>\n",
       "      <td>0.897653</td>\n",
       "      <td>0.896001</td>\n",
       "    </tr>\n",
       "    <tr>\n",
       "      <th>2</th>\n",
       "      <td>17</td>\n",
       "      <td>5</td>\n",
       "      <td>500</td>\n",
       "      <td>0.896438</td>\n",
       "      <td>0.895994</td>\n",
       "    </tr>\n",
       "    <tr>\n",
       "      <th>38</th>\n",
       "      <td>18</td>\n",
       "      <td>12</td>\n",
       "      <td>1000</td>\n",
       "      <td>0.903434</td>\n",
       "      <td>0.895987</td>\n",
       "    </tr>\n",
       "    <tr>\n",
       "      <th>32</th>\n",
       "      <td>19</td>\n",
       "      <td>11</td>\n",
       "      <td>500</td>\n",
       "      <td>0.902027</td>\n",
       "      <td>0.895981</td>\n",
       "    </tr>\n",
       "    <tr>\n",
       "      <th>30</th>\n",
       "      <td>20</td>\n",
       "      <td>11</td>\n",
       "      <td>100</td>\n",
       "      <td>0.902214</td>\n",
       "      <td>0.895978</td>\n",
       "    </tr>\n",
       "    <tr>\n",
       "      <th>23</th>\n",
       "      <td>21</td>\n",
       "      <td>9</td>\n",
       "      <td>1000</td>\n",
       "      <td>0.899686</td>\n",
       "      <td>0.895977</td>\n",
       "    </tr>\n",
       "    <tr>\n",
       "      <th>3</th>\n",
       "      <td>22</td>\n",
       "      <td>5</td>\n",
       "      <td>1000</td>\n",
       "      <td>0.896404</td>\n",
       "      <td>0.895971</td>\n",
       "    </tr>\n",
       "    <tr>\n",
       "      <th>27</th>\n",
       "      <td>23</td>\n",
       "      <td>10</td>\n",
       "      <td>500</td>\n",
       "      <td>0.900788</td>\n",
       "      <td>0.895966</td>\n",
       "    </tr>\n",
       "    <tr>\n",
       "      <th>37</th>\n",
       "      <td>24</td>\n",
       "      <td>12</td>\n",
       "      <td>500</td>\n",
       "      <td>0.903453</td>\n",
       "      <td>0.895965</td>\n",
       "    </tr>\n",
       "    <tr>\n",
       "      <th>10</th>\n",
       "      <td>25</td>\n",
       "      <td>7</td>\n",
       "      <td>100</td>\n",
       "      <td>0.897767</td>\n",
       "      <td>0.895965</td>\n",
       "    </tr>\n",
       "    <tr>\n",
       "      <th>22</th>\n",
       "      <td>26</td>\n",
       "      <td>9</td>\n",
       "      <td>500</td>\n",
       "      <td>0.899701</td>\n",
       "      <td>0.895961</td>\n",
       "    </tr>\n",
       "    <tr>\n",
       "      <th>21</th>\n",
       "      <td>27</td>\n",
       "      <td>9</td>\n",
       "      <td>200</td>\n",
       "      <td>0.899735</td>\n",
       "      <td>0.895958</td>\n",
       "    </tr>\n",
       "    <tr>\n",
       "      <th>34</th>\n",
       "      <td>28</td>\n",
       "      <td>11</td>\n",
       "      <td>1500</td>\n",
       "      <td>0.902027</td>\n",
       "      <td>0.895948</td>\n",
       "    </tr>\n",
       "    <tr>\n",
       "      <th>31</th>\n",
       "      <td>29</td>\n",
       "      <td>11</td>\n",
       "      <td>200</td>\n",
       "      <td>0.902214</td>\n",
       "      <td>0.895947</td>\n",
       "    </tr>\n",
       "    <tr>\n",
       "      <th>26</th>\n",
       "      <td>30</td>\n",
       "      <td>10</td>\n",
       "      <td>200</td>\n",
       "      <td>0.900848</td>\n",
       "      <td>0.895945</td>\n",
       "    </tr>\n",
       "    <tr>\n",
       "      <th>4</th>\n",
       "      <td>31</td>\n",
       "      <td>5</td>\n",
       "      <td>1500</td>\n",
       "      <td>0.896347</td>\n",
       "      <td>0.895944</td>\n",
       "    </tr>\n",
       "    <tr>\n",
       "      <th>33</th>\n",
       "      <td>32</td>\n",
       "      <td>11</td>\n",
       "      <td>1000</td>\n",
       "      <td>0.902071</td>\n",
       "      <td>0.895938</td>\n",
       "    </tr>\n",
       "    <tr>\n",
       "      <th>6</th>\n",
       "      <td>33</td>\n",
       "      <td>6</td>\n",
       "      <td>200</td>\n",
       "      <td>0.897035</td>\n",
       "      <td>0.895931</td>\n",
       "    </tr>\n",
       "    <tr>\n",
       "      <th>39</th>\n",
       "      <td>34</td>\n",
       "      <td>12</td>\n",
       "      <td>1500</td>\n",
       "      <td>0.903526</td>\n",
       "      <td>0.895919</td>\n",
       "    </tr>\n",
       "    <tr>\n",
       "      <th>28</th>\n",
       "      <td>35</td>\n",
       "      <td>10</td>\n",
       "      <td>1000</td>\n",
       "      <td>0.900816</td>\n",
       "      <td>0.895907</td>\n",
       "    </tr>\n",
       "    <tr>\n",
       "      <th>36</th>\n",
       "      <td>36</td>\n",
       "      <td>12</td>\n",
       "      <td>200</td>\n",
       "      <td>0.903517</td>\n",
       "      <td>0.895904</td>\n",
       "    </tr>\n",
       "    <tr>\n",
       "      <th>25</th>\n",
       "      <td>37</td>\n",
       "      <td>10</td>\n",
       "      <td>100</td>\n",
       "      <td>0.900847</td>\n",
       "      <td>0.895888</td>\n",
       "    </tr>\n",
       "    <tr>\n",
       "      <th>1</th>\n",
       "      <td>38</td>\n",
       "      <td>5</td>\n",
       "      <td>200</td>\n",
       "      <td>0.896403</td>\n",
       "      <td>0.895883</td>\n",
       "    </tr>\n",
       "    <tr>\n",
       "      <th>0</th>\n",
       "      <td>39</td>\n",
       "      <td>5</td>\n",
       "      <td>100</td>\n",
       "      <td>0.896435</td>\n",
       "      <td>0.895841</td>\n",
       "    </tr>\n",
       "    <tr>\n",
       "      <th>35</th>\n",
       "      <td>40</td>\n",
       "      <td>12</td>\n",
       "      <td>100</td>\n",
       "      <td>0.903692</td>\n",
       "      <td>0.895778</td>\n",
       "    </tr>\n",
       "  </tbody>\n",
       "</table>\n",
       "</div>"
      ],
      "text/plain": [
       "    rank_test_score param_randomforestclassifier__max_depth  \\\n",
       "15                1                                       8   \n",
       "18                2                                       8   \n",
       "19                3                                       8   \n",
       "17                4                                       8   \n",
       "14                5                                       7   \n",
       "29                6                                      10   \n",
       "13                7                                       7   \n",
       "8                 8                                       6   \n",
       "24                9                                       9   \n",
       "20               10                                       9   \n",
       "11               11                                       7   \n",
       "5                12                                       6   \n",
       "9                13                                       6   \n",
       "7                14                                       6   \n",
       "16               15                                       8   \n",
       "12               16                                       7   \n",
       "2                17                                       5   \n",
       "38               18                                      12   \n",
       "32               19                                      11   \n",
       "30               20                                      11   \n",
       "23               21                                       9   \n",
       "3                22                                       5   \n",
       "27               23                                      10   \n",
       "37               24                                      12   \n",
       "10               25                                       7   \n",
       "22               26                                       9   \n",
       "21               27                                       9   \n",
       "34               28                                      11   \n",
       "31               29                                      11   \n",
       "26               30                                      10   \n",
       "4                31                                       5   \n",
       "33               32                                      11   \n",
       "6                33                                       6   \n",
       "39               34                                      12   \n",
       "28               35                                      10   \n",
       "36               36                                      12   \n",
       "25               37                                      10   \n",
       "1                38                                       5   \n",
       "0                39                                       5   \n",
       "35               40                                      12   \n",
       "\n",
       "   param_randomforestclassifier__n_estimators  mean_train_score  \\\n",
       "15                                        100          0.898590   \n",
       "18                                       1000          0.898612   \n",
       "19                                       1500          0.898595   \n",
       "17                                        500          0.898547   \n",
       "14                                       1500          0.897710   \n",
       "29                                       1500          0.900847   \n",
       "13                                       1000          0.897650   \n",
       "8                                        1000          0.897003   \n",
       "24                                       1500          0.899621   \n",
       "20                                        100          0.899736   \n",
       "11                                        200          0.897700   \n",
       "5                                         100          0.896891   \n",
       "9                                        1500          0.897003   \n",
       "7                                         500          0.897032   \n",
       "16                                        200          0.898617   \n",
       "12                                        500          0.897653   \n",
       "2                                         500          0.896438   \n",
       "38                                       1000          0.903434   \n",
       "32                                        500          0.902027   \n",
       "30                                        100          0.902214   \n",
       "23                                       1000          0.899686   \n",
       "3                                        1000          0.896404   \n",
       "27                                        500          0.900788   \n",
       "37                                        500          0.903453   \n",
       "10                                        100          0.897767   \n",
       "22                                        500          0.899701   \n",
       "21                                        200          0.899735   \n",
       "34                                       1500          0.902027   \n",
       "31                                        200          0.902214   \n",
       "26                                        200          0.900848   \n",
       "4                                        1500          0.896347   \n",
       "33                                       1000          0.902071   \n",
       "6                                         200          0.897035   \n",
       "39                                       1500          0.903526   \n",
       "28                                       1000          0.900816   \n",
       "36                                        200          0.903517   \n",
       "25                                        100          0.900847   \n",
       "1                                         200          0.896403   \n",
       "0                                         100          0.896435   \n",
       "35                                        100          0.903692   \n",
       "\n",
       "    mean_test_score  \n",
       "15         0.896077  \n",
       "18         0.896063  \n",
       "19         0.896052  \n",
       "17         0.896043  \n",
       "14         0.896042  \n",
       "29         0.896042  \n",
       "13         0.896036  \n",
       "8          0.896033  \n",
       "24         0.896031  \n",
       "20         0.896031  \n",
       "11         0.896024  \n",
       "5          0.896020  \n",
       "9          0.896017  \n",
       "7          0.896017  \n",
       "16         0.896005  \n",
       "12         0.896001  \n",
       "2          0.895994  \n",
       "38         0.895987  \n",
       "32         0.895981  \n",
       "30         0.895978  \n",
       "23         0.895977  \n",
       "3          0.895971  \n",
       "27         0.895966  \n",
       "37         0.895965  \n",
       "10         0.895965  \n",
       "22         0.895961  \n",
       "21         0.895958  \n",
       "34         0.895948  \n",
       "31         0.895947  \n",
       "26         0.895945  \n",
       "4          0.895944  \n",
       "33         0.895938  \n",
       "6          0.895931  \n",
       "39         0.895919  \n",
       "28         0.895907  \n",
       "36         0.895904  \n",
       "25         0.895888  \n",
       "1          0.895883  \n",
       "0          0.895841  \n",
       "35         0.895778  "
      ]
     },
     "execution_count": 26,
     "metadata": {},
     "output_type": "execute_result"
    }
   ],
   "source": [
    "grid_rf1_res[['rank_test_score', 'param_randomforestclassifier__max_depth',\n",
    "              'param_randomforestclassifier__n_estimators',\n",
    "              'mean_train_score', 'mean_test_score']]"
   ]
  },
  {
   "cell_type": "markdown",
   "metadata": {},
   "source": [
    "The GridSearchCV results show that the more complex trees (max_depth at 10 or higher, number of trees at 1000 or 1500)  overfit the training set, hence higher training scores, but there's no improvement on the test set, meaning they can't generalize well on unseen data. In fact, the best estimator has 200 trees with max_depth at 7. This will save our computational cost significantly without trading off the model performance."
   ]
  },
  {
   "cell_type": "markdown",
   "metadata": {},
   "source": [
    "We'll get the model results using 5-fold cross_val_predict. This allows us to assemble predictions on all the test fold during cross validation & check the confusion matrix result."
   ]
  },
  {
   "cell_type": "code",
   "execution_count": 27,
   "metadata": {},
   "outputs": [
    {
     "name": "stdout",
     "output_type": "stream",
     "text": [
      "CV score: \n",
      " Accuracy score: 0.822742302793253\n",
      "F1-score: 0.896057942585537\n",
      "Confusion matrix: \n",
      " [[ 4562 12869]\n",
      " [  908 59384]]\n"
     ]
    }
   ],
   "source": [
    "rf1.set_params(**{'max_depth': 7, 'n_estimators': 200})\n",
    "pipe_rf1_best = make_pipeline(imputer, rf1)\n",
    "y_train_pred_rf1 = cross_val_predict(pipe_rf1_best, X_train, y_train, cv=5, method='predict', n_jobs=-1)\n",
    "print('CV score: \\n Accuracy score:', accuracy_score(y_train, y_train_pred_rf1))\n",
    "print('F1-score:', f1_score(y_train, y_train_pred_rf1))\n",
    "print('Confusion matrix: \\n', confusion_matrix(y_train, y_train_pred_rf1))"
   ]
  },
  {
   "cell_type": "markdown",
   "metadata": {},
   "source": [
    "Now we'll increase max_samples & max_features to see if the model can yield better results."
   ]
  },
  {
   "cell_type": "code",
   "execution_count": 28,
   "metadata": {},
   "outputs": [
    {
     "name": "stdout",
     "output_type": "stream",
     "text": [
      "Fitting 3 folds for each of 8 candidates, totalling 24 fits\n"
     ]
    },
    {
     "name": "stderr",
     "output_type": "stream",
     "text": [
      "[Parallel(n_jobs=-1)]: Using backend LokyBackend with 4 concurrent workers.\n",
      "[Parallel(n_jobs=-1)]: Done  24 out of  24 | elapsed: 12.8min finished\n"
     ]
    },
    {
     "data": {
      "text/plain": [
       "GridSearchCV(cv=StratifiedKFold(n_splits=3, random_state=None, shuffle=False),\n",
       "             estimator=Pipeline(steps=[('simpleimputer',\n",
       "                                        SimpleImputer(strategy='median')),\n",
       "                                       ('randomforestclassifier',\n",
       "                                        RandomForestClassifier(max_depth=7,\n",
       "                                                               n_estimators=200))]),\n",
       "             n_jobs=-1,\n",
       "             param_grid={'randomforestclassifier__max_features': [0.5, 0.75],\n",
       "                         'randomforestclassifier__max_samples': [0.5, 0.75],\n",
       "                         'randomforestclassifier__n_estimators': [200, 500]},\n",
       "             return_train_score=True, scoring='f1', verbose=1)"
      ]
     },
     "execution_count": 28,
     "metadata": {},
     "output_type": "execute_result"
    }
   ],
   "source": [
    "rf2 = RandomForestClassifier(n_estimators=200,\n",
    "                             max_depth=7)\n",
    "# pipeline\n",
    "pipe_rf2 = make_pipeline(imputer, rf2)\n",
    "\n",
    "# set hyperparameters to tune\n",
    "params_rf2 = {'randomforestclassifier__n_estimators': [200,500],\n",
    "              'randomforestclassifier__max_samples': [0.5, 0.75],\n",
    "              'randomforestclassifier__max_features': [0.5, 0.75]}\n",
    "\n",
    "grid_rf2 = GridSearchCV(pipe_rf2, param_grid=params_rf2,\n",
    "                        cv=StratifiedKFold(n_splits=3), scoring='f1',\n",
    "                        verbose=1, n_jobs=-1,\n",
    "                        return_train_score=True)\n",
    "\n",
    "grid_rf2.fit(X_train, y_train)"
   ]
  },
  {
   "cell_type": "code",
   "execution_count": 29,
   "metadata": {},
   "outputs": [
    {
     "name": "stdout",
     "output_type": "stream",
     "text": [
      "Random Forest - GridSearchCV 2:\n",
      "Best params:  {'randomforestclassifier__max_features': 0.75, 'randomforestclassifier__max_samples': 0.5, 'randomforestclassifier__n_estimators': 200}\n",
      "Best estimator:  Pipeline(steps=[('simpleimputer', SimpleImputer(strategy='median')),\n",
      "                ('randomforestclassifier',\n",
      "                 RandomForestClassifier(max_depth=7, max_features=0.75,\n",
      "                                        max_samples=0.5, n_estimators=200))])\n"
     ]
    }
   ],
   "source": [
    "print('Random Forest - GridSearchCV 2:')\n",
    "print('Best params: ', grid_rf2.best_params_)\n",
    "print('Best estimator: ', grid_rf2.best_estimator_)"
   ]
  },
  {
   "cell_type": "code",
   "execution_count": 30,
   "metadata": {
    "scrolled": true
   },
   "outputs": [
    {
     "data": {
      "text/html": [
       "<div>\n",
       "<style scoped>\n",
       "    .dataframe tbody tr th:only-of-type {\n",
       "        vertical-align: middle;\n",
       "    }\n",
       "\n",
       "    .dataframe tbody tr th {\n",
       "        vertical-align: top;\n",
       "    }\n",
       "\n",
       "    .dataframe thead th {\n",
       "        text-align: right;\n",
       "    }\n",
       "</style>\n",
       "<table border=\"1\" class=\"dataframe\">\n",
       "  <thead>\n",
       "    <tr style=\"text-align: right;\">\n",
       "      <th></th>\n",
       "      <th>rank_test_score</th>\n",
       "      <th>param_randomforestclassifier__n_estimators</th>\n",
       "      <th>param_randomforestclassifier__max_features</th>\n",
       "      <th>param_randomforestclassifier__max_samples</th>\n",
       "      <th>mean_test_score</th>\n",
       "    </tr>\n",
       "  </thead>\n",
       "  <tbody>\n",
       "    <tr>\n",
       "      <th>0</th>\n",
       "      <td>6</td>\n",
       "      <td>200</td>\n",
       "      <td>0.5</td>\n",
       "      <td>0.5</td>\n",
       "      <td>0.896094</td>\n",
       "    </tr>\n",
       "    <tr>\n",
       "      <th>1</th>\n",
       "      <td>5</td>\n",
       "      <td>500</td>\n",
       "      <td>0.5</td>\n",
       "      <td>0.5</td>\n",
       "      <td>0.896104</td>\n",
       "    </tr>\n",
       "    <tr>\n",
       "      <th>2</th>\n",
       "      <td>8</td>\n",
       "      <td>200</td>\n",
       "      <td>0.5</td>\n",
       "      <td>0.75</td>\n",
       "      <td>0.896027</td>\n",
       "    </tr>\n",
       "    <tr>\n",
       "      <th>3</th>\n",
       "      <td>7</td>\n",
       "      <td>500</td>\n",
       "      <td>0.5</td>\n",
       "      <td>0.75</td>\n",
       "      <td>0.896068</td>\n",
       "    </tr>\n",
       "    <tr>\n",
       "      <th>4</th>\n",
       "      <td>1</td>\n",
       "      <td>200</td>\n",
       "      <td>0.75</td>\n",
       "      <td>0.5</td>\n",
       "      <td>0.896170</td>\n",
       "    </tr>\n",
       "    <tr>\n",
       "      <th>5</th>\n",
       "      <td>4</td>\n",
       "      <td>500</td>\n",
       "      <td>0.75</td>\n",
       "      <td>0.5</td>\n",
       "      <td>0.896123</td>\n",
       "    </tr>\n",
       "    <tr>\n",
       "      <th>6</th>\n",
       "      <td>3</td>\n",
       "      <td>200</td>\n",
       "      <td>0.75</td>\n",
       "      <td>0.75</td>\n",
       "      <td>0.896153</td>\n",
       "    </tr>\n",
       "    <tr>\n",
       "      <th>7</th>\n",
       "      <td>2</td>\n",
       "      <td>500</td>\n",
       "      <td>0.75</td>\n",
       "      <td>0.75</td>\n",
       "      <td>0.896157</td>\n",
       "    </tr>\n",
       "  </tbody>\n",
       "</table>\n",
       "</div>"
      ],
      "text/plain": [
       "   rank_test_score param_randomforestclassifier__n_estimators  \\\n",
       "0                6                                        200   \n",
       "1                5                                        500   \n",
       "2                8                                        200   \n",
       "3                7                                        500   \n",
       "4                1                                        200   \n",
       "5                4                                        500   \n",
       "6                3                                        200   \n",
       "7                2                                        500   \n",
       "\n",
       "  param_randomforestclassifier__max_features  \\\n",
       "0                                        0.5   \n",
       "1                                        0.5   \n",
       "2                                        0.5   \n",
       "3                                        0.5   \n",
       "4                                       0.75   \n",
       "5                                       0.75   \n",
       "6                                       0.75   \n",
       "7                                       0.75   \n",
       "\n",
       "  param_randomforestclassifier__max_samples  mean_test_score  \n",
       "0                                       0.5         0.896094  \n",
       "1                                       0.5         0.896104  \n",
       "2                                      0.75         0.896027  \n",
       "3                                      0.75         0.896068  \n",
       "4                                       0.5         0.896170  \n",
       "5                                       0.5         0.896123  \n",
       "6                                      0.75         0.896153  \n",
       "7                                      0.75         0.896157  "
      ]
     },
     "execution_count": 30,
     "metadata": {},
     "output_type": "execute_result"
    }
   ],
   "source": [
    "pd.DataFrame(grid_rf2.cv_results_)[['rank_test_score', 'param_randomforestclassifier__n_estimators',\n",
    "                                    'param_randomforestclassifier__max_features',\n",
    "                                    'param_randomforestclassifier__max_samples', 'mean_test_score']]"
   ]
  },
  {
   "cell_type": "markdown",
   "metadata": {},
   "source": [
    "The cross validation score improves slightly but not significant. We'll finalize the hyperparameters and check the feature importances."
   ]
  },
  {
   "cell_type": "code",
   "execution_count": 31,
   "metadata": {},
   "outputs": [],
   "source": [
    "rf2.set_params(**{'max_features': 0.75, 'max_samples': 0.75})\n",
    "pipe_rf2_best = make_pipeline(imputer, rf2)"
   ]
  },
  {
   "cell_type": "markdown",
   "metadata": {},
   "source": [
    "Vizualizing feature importance for our analysis."
   ]
  },
  {
   "cell_type": "code",
   "execution_count": 32,
   "metadata": {},
   "outputs": [
    {
     "data": {
      "text/plain": [
       "Pipeline(steps=[('simpleimputer', SimpleImputer(strategy='median')),\n",
       "                ('randomforestclassifier',\n",
       "                 RandomForestClassifier(max_depth=7, max_features=0.75,\n",
       "                                        max_samples=0.75, n_estimators=200))])"
      ]
     },
     "execution_count": 32,
     "metadata": {},
     "output_type": "execute_result"
    }
   ],
   "source": [
    "pipe_rf2_best.fit(X_train, y_train)"
   ]
  },
  {
   "cell_type": "code",
   "execution_count": 33,
   "metadata": {},
   "outputs": [
    {
     "data": {
      "image/png": "[encoded data removed]",
      "text/plain": [
       "<Figure size 432x576 with 1 Axes>"
      ]
     },
     "metadata": {
      "needs_background": "light"
     },
     "output_type": "display_data"
    }
   ],
   "source": [
    "feature_imp_rf2 = pd.DataFrame(sorted(zip(pipe_rf2_best.named_steps['randomforestclassifier'].feature_importances_,\n",
    "                                           X_train.columns)), columns=['Value','Feature'])\n",
    "import matplotlib.pyplot as plt\n",
    "import seaborn as sns\n",
    "plt.figure(figsize=(6, 8))\n",
    "sns.barplot(x='Value', y='Feature', data=feature_imp_rf2.sort_values(by='Value', ascending=False))\n",
    "plt.title('RFC Features')\n",
    "plt.tight_layout()\n",
    "plt.show()"
   ]
  },
  {
   "attachments": {},
   "cell_type": "markdown",
   "metadata": {},
   "source": [
    "The 3 features with the largest effects are those concerning the delivery process: estimated_delivery_time_error, late_delivery & actual_days_of_delivery. This echoes with one of our first hypothesis about the effect of shipping time to customer satisfaction. Long and late deliveries dissatisfy online clients. \n",
    "\n",
    "Olist acts as an e-commerce platform connecting sellers and online shoppers, while providing logistic services. Ensuring excellent shipping services is one of the key factors to attract sellers and customers to the platform, and more importantly, keep the sellers stay and customers coming back. \n",
    "\n",
    "Delivery is processed through various steps, therefore is driven by many factors, such as stock management, order handling speed and transportation. As we don’t have detailed information about Olist internal operation, our suggestion is for the company to effectively track the shipping steps to get more accurate estimated delivery time, while detecting inefficient procedures to improve the overall shipping performance."
   ]
  },
  {
   "cell_type": "markdown",
   "metadata": {},
   "source": [
    "From the feature importance results, there are various insignificant features. We'll drop them to reduce noises & improve the model efficiency."
   ]
  },
  {
   "cell_type": "code",
   "execution_count": 34,
   "metadata": {},
   "outputs": [],
   "source": [
    "to_drop2 = ['delivered', 'product_photos_qty', 'customer_return', 'electronics',\n",
    "           'review_delay_range_3', 'review_delay_range_1', 'hobbies',\n",
    "           'review_delay_range_2', 'baby_cosmetics', 'fashion',\n",
    "           'sports', 'utility', 'others']\n",
    "X_train_new = X_train.drop(columns=to_drop2, axis=1)"
   ]
  },
  {
   "cell_type": "code",
   "execution_count": 35,
   "metadata": {},
   "outputs": [
    {
     "name": "stdout",
     "output_type": "stream",
     "text": [
      "RF2 best scores: \n",
      " Accuracy score: 0.8228452324279815\n",
      "F1-score: 0.8961449399980389\n",
      "Confusion matrix: \n",
      " [[ 4549 12882]\n",
      " [  887 59405]]\n"
     ]
    }
   ],
   "source": [
    "pipe_rf2_best.fit(X_train_new, y_train)\n",
    "y_train_pred_rf2 = cross_val_predict(pipe_rf2_best, X_train_new, y_train, cv=5, method='predict', n_jobs=-1)\n",
    "print('RF2 best scores: \\n Accuracy score:', accuracy_score(y_train, y_train_pred_rf2))\n",
    "print('F1-score:', f1_score(y_train, y_train_pred_rf2))\n",
    "print('Confusion matrix: \\n', confusion_matrix(y_train, y_train_pred_rf2))"
   ]
  },
  {
   "cell_type": "markdown",
   "metadata": {},
   "source": [
    "#### Business implication"
   ]
  },
  {
   "cell_type": "markdown",
   "metadata": {},
   "source": [
    "We'll use the best Random Forest model defined previously to predict probability of the test set, indicating the probability of each observation to belong to a certain class. This will be used to narrow down target customers, maximize the outcome of the company's business decisions within a limited budget."
   ]
  },
  {
   "cell_type": "code",
   "execution_count": 36,
   "metadata": {
    "scrolled": false
   },
   "outputs": [
    {
     "data": {
      "text/html": [
       "<div>\n",
       "<style scoped>\n",
       "    .dataframe tbody tr th:only-of-type {\n",
       "        vertical-align: middle;\n",
       "    }\n",
       "\n",
       "    .dataframe tbody tr th {\n",
       "        vertical-align: top;\n",
       "    }\n",
       "\n",
       "    .dataframe thead th {\n",
       "        text-align: right;\n",
       "    }\n",
       "</style>\n",
       "<table border=\"1\" class=\"dataframe\">\n",
       "  <thead>\n",
       "    <tr style=\"text-align: right;\">\n",
       "      <th></th>\n",
       "      <th>0</th>\n",
       "      <th>1</th>\n",
       "    </tr>\n",
       "  </thead>\n",
       "  <tbody>\n",
       "    <tr>\n",
       "      <th>0</th>\n",
       "      <td>0.913182</td>\n",
       "      <td>0.086818</td>\n",
       "    </tr>\n",
       "    <tr>\n",
       "      <th>1</th>\n",
       "      <td>0.193147</td>\n",
       "      <td>0.806853</td>\n",
       "    </tr>\n",
       "    <tr>\n",
       "      <th>2</th>\n",
       "      <td>0.194760</td>\n",
       "      <td>0.805240</td>\n",
       "    </tr>\n",
       "    <tr>\n",
       "      <th>3</th>\n",
       "      <td>0.156833</td>\n",
       "      <td>0.843167</td>\n",
       "    </tr>\n",
       "    <tr>\n",
       "      <th>4</th>\n",
       "      <td>0.293542</td>\n",
       "      <td>0.706458</td>\n",
       "    </tr>\n",
       "  </tbody>\n",
       "</table>\n",
       "</div>"
      ],
      "text/plain": [
       "          0         1\n",
       "0  0.913182  0.086818\n",
       "1  0.193147  0.806853\n",
       "2  0.194760  0.805240\n",
       "3  0.156833  0.843167\n",
       "4  0.293542  0.706458"
      ]
     },
     "execution_count": 36,
     "metadata": {},
     "output_type": "execute_result"
    }
   ],
   "source": [
    "X_test_new = X_test.drop(columns=to_drop2, axis=1)\n",
    "y_test_proba = pd.DataFrame(pipe_rf2_best.predict_proba(X_test_new))\n",
    "y_test_proba.head()"
   ]
  },
  {
   "cell_type": "markdown",
   "metadata": {},
   "source": [
    "##### Satisfied customers"
   ]
  },
  {
   "cell_type": "code",
   "execution_count": 37,
   "metadata": {},
   "outputs": [
    {
     "data": {
      "image/png": "[encoded data removed]",
      "text/plain": [
       "<Figure size 432x288 with 1 Axes>"
      ]
     },
     "metadata": {
      "needs_background": "light"
     },
     "output_type": "display_data"
    }
   ],
   "source": [
    "sns.kdeplot(data=y_test_proba, x=1, fill=True, color='g')\n",
    "plt.xlabel('Probability of being a happy customer')\n",
    "plt.show()"
   ]
  },
  {
   "cell_type": "code",
   "execution_count": 38,
   "metadata": {
    "scrolled": true
   },
   "outputs": [
    {
     "name": "stdout",
     "output_type": "stream",
     "text": [
      "High probability of happy experience: 16419 customers\n",
      "Percentage: 84.49899644897329\n"
     ]
    }
   ],
   "source": [
    "print('High probability of happy experience:', len(y_test_proba[y_test_proba[1] >= 0.75]), 'customers')\n",
    "print('Percentage:', len(y_test_proba[y_test_proba[1] >= 0.75])*100 / len(y_test_proba))"
   ]
  },
  {
   "attachments": {},
   "cell_type": "markdown",
   "metadata": {},
   "source": [
    "One of the most important tasks of the project is to identify satisfied customers. Happy clients are more likely to come back. This is the customer group that Olist’s marketing strategy can target, for better outcome with less resources. Take chance to offer them membership program & premium shipping service, recommend products that align with their interest.The company can also study the happy customers’ habit, the popular product categories and reputable sellers to improve their recommender system."
   ]
  },
  {
   "cell_type": "markdown",
   "metadata": {},
   "source": [
    "##### Unsatisfied customers"
   ]
  },
  {
   "cell_type": "code",
   "execution_count": 39,
   "metadata": {
    "scrolled": true
   },
   "outputs": [
    {
     "data": {
      "image/png": "[encoded data removed]",
      "text/plain": [
       "<Figure size 432x288 with 1 Axes>"
      ]
     },
     "metadata": {
      "needs_background": "light"
     },
     "output_type": "display_data"
    }
   ],
   "source": [
    "sns.kdeplot(data=y_test_proba, x=0, fill=True, color='red')\n",
    "plt.xlabel('Probability of being an unhappy customer')\n",
    "plt.show()"
   ]
  },
  {
   "cell_type": "code",
   "execution_count": 40,
   "metadata": {
    "scrolled": true
   },
   "outputs": [
    {
     "name": "stdout",
     "output_type": "stream",
     "text": [
      "High probability of unhappy experience: 1244 customers\n",
      "Percentage: 6.402140908856981\n"
     ]
    }
   ],
   "source": [
    "print('High probability of unhappy experience:', len(y_test_proba[y_test_proba[0] >= 0.75]), 'customers')\n",
    "print('Percentage:', len(y_test_proba[y_test_proba[0] >= 0.75])*100 / len(y_test_proba))"
   ]
  },
  {
   "attachments": {},
   "cell_type": "markdown",
   "metadata": {},
   "source": [
    "We will select observations with highest probabilities of being in class 0 ( > 75%), referring to customers with highest chance of having a negative shopping experience. \n",
    "\n",
    "By detecting unhappy customers early, Olist can take chance to offer better customer services to these clients to compensate for their negative experience. Simple offers such as discount or free shipping fee on the next purchase would help repair the problem before a bad review is up on their website. The company can continue to expand their reputation, attract more sellers and new clients, while potentially keep the unhappy clients coming back."
   ]
  },
  {
   "cell_type": "markdown",
   "metadata": {},
   "source": [
    "-----\n",
    "This is the end of our project sumary. Thank you very much for reading it. As always, any comments or feedbacks are more than welcome!"
   ]
  }
 ],
 "metadata": {
  "kernelspec": {
   "display_name": "Python 3",
   "language": "python",
   "name": "python3"
  },
  "language_info": {
   "codemirror_mode": {
    "name": "ipython",
    "version": 3
   },
   "file_extension": ".py",
   "mimetype": "text/x-python",
   "name": "python",
   "nbconvert_exporter": "python",
   "pygments_lexer": "ipython3",
   "version": "3.7.9"
  },
  "latex_envs": {
   "LaTeX_envs_menu_present": true,
   "autoclose": false,
   "autocomplete": true,
   "bibliofile": "biblio.bib",
   "cite_by": "apalike",
   "current_citInitial": 1,
   "eqLabelWithNumbers": true,
   "eqNumInitial": 1,
   "hotkeys": {
    "equation": "Ctrl-E",
    "itemize": "Ctrl-I"
   },
   "labels_anchors": false,
   "latex_user_defs": false,
   "report_style_numbering": false,
   "user_envs_cfg": false
  },
  "toc": {
   "base_numbering": "1",
   "nav_menu": {},
   "number_sections": true,
   "sideBar": true,
   "skip_h1_title": true,
   "title_cell": "Table of Contents",
   "title_sidebar": "Contents",
   "toc_cell": false,
   "toc_position": {
    "height": "calc(100% - 180px)",
    "left": "10px",
    "top": "150px",
    "width": "165px"
   },
   "toc_section_display": true,
   "toc_window_display": true
  }
 },
 "nbformat": 4,
 "nbformat_minor": 4
}
